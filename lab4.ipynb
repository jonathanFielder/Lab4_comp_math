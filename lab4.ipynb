{
 "cells": [
  {
   "cell_type": "markdown",
   "metadata": {},
   "source": [
    "# Question 3:"
   ]
  },
  {
   "cell_type": "markdown",
   "metadata": {},
   "source": [
    "## Part (a)"
   ]
  },
  {
   "cell_type": "code",
   "execution_count": 2,
   "metadata": {},
   "outputs": [],
   "source": [
    "def f(x):\n",
    "\treturn((x-1)**6)\n",
    "\n",
    "def fexpanded(x):\n",
    "\treturn(x**6-6*x**5+15*x**4-20*x**3+15*x**2-6*x+1)\n",
    "\n",
    "\n",
    "def fnested(x):\n",
    "\tresult = 1\n",
    "\tfor i in range(6):\n",
    "\t\tresult *= (x-1)\n",
    "\treturn result"
   ]
  },
  {
   "cell_type": "markdown",
   "metadata": {},
   "source": [
    "## Part (b)"
   ]
  },
  {
   "cell_type": "code",
   "execution_count": 3,
   "metadata": {},
   "outputs": [
    {
     "name": "stdout",
     "output_type": "stream",
     "text": [
      "1.1 1.0000000000000052e-06 9.999999948107074e-07 1.0000000000000055e-06\n",
      "1.01 1.0000000000000052e-12 1.000088900582341e-12 1.0000000000000054e-12\n",
      "1.001 9.999999999993393e-19 -2.6645352591003757e-15 9.999999999993393e-19\n",
      "1.0001 9.999999999993393e-25 -3.552713678800501e-15 9.99999999999339e-25\n",
      "1.00001 1.0000000000393072e-30 4.440892098500626e-15 1.0000000000393072e-30\n",
      "1.000001 9.999999995064001e-37 3.552713678800501e-15 9.999999995064e-37\n",
      "1.0000001 1.0000000035032031e-42 1.7763568394002505e-15 1.0000000035032031e-42\n"
     ]
    }
   ],
   "source": [
    "for i in range(1,8):\n",
    "\tx = 1+10**(-i)\n",
    "\tprint(x, f(x), fexpanded(x), fnested(x))\n",
    "\t"
   ]
  },
  {
   "cell_type": "markdown",
   "metadata": {},
   "source": [
    "## Part (c)\n",
    "We are iterating from 1 to 7 inclusive in the above loop. With each iteration **x** is approaching a number closer to 1 with more precicion needed to specify it as different than 1. The **f(x)** function uses the original function form to evaluate the value of the specified function when given each iterative **x** value. The **fexpanded(x)** uses the expanded definition of the function to evaluate the value at each **x**. The **fnested(x)** uses the nested multiplication form of **f(x)** to evaluate at each **x** value. With each iteration, we can see how each form of the polynomial function evaluates differently from eachother as **x** approaches a number closer to one.\\\n",
    "\n",
    "Using the definition of **f(x)** we can find the exact answers to be:\\\n",
    "0.000001\\\n",
    "1x10<sup>-12</sup>\\\n",
    "1x10<sup>-18</sup>\\\n",
    "1x10<sup>-24</sup>\\\n",
    "1x10<sup>-30</sup>\\\n",
    "1x10<sup>-36</sup>\\\n",
    "1x10<sup>-42</sup>\\\n",
    "I found these numbers by plugging the original **f(x)** definition into Desmos and evaluating at **x** when **x** is equal to each of the specified numbers in the left collumn for the above results."
   ]
  },
  {
   "cell_type": "markdown",
   "metadata": {},
   "source": [
    "## Part (d)\n",
    "The **Definition** and **Nested Multiplication** versions of the function appear to have the most consistent results and agree with eachother's results. The limitations of floating point arrithmatic cause issues for the **Expanded Form** as there is more room for floating point errors when subtraction is involved with arithmetic involving small numbers."
   ]
  },
  {
   "cell_type": "markdown",
   "metadata": {},
   "source": [
    "# Question 4:"
   ]
  },
  {
   "cell_type": "code",
   "execution_count": 4,
   "metadata": {},
   "outputs": [],
   "source": [
    "def fexpandederror(x):\n",
    "\treturn(x**6-6*x**5+15*x**4-19.9*x**3+15*x**2-6*x+1)"
   ]
  },
  {
   "cell_type": "markdown",
   "metadata": {},
   "source": [
    "## Part (a)"
   ]
  },
  {
   "cell_type": "code",
   "execution_count": 22,
   "metadata": {},
   "outputs": [
    {
     "name": "stdout",
     "output_type": "stream",
     "text": [
      "fexpanded of 1.1 is 9.999999948107074e-07\n",
      "fexpandederror of 1.1 is: 0.13310099999999725\n"
     ]
    }
   ],
   "source": [
    "x1 = 1.1\n",
    "print(\"fexpanded of 1.1 is\", fexpanded(x1))\n",
    "print(\"fexpandederror of 1.1 is:\", fexpandederror(x1))"
   ]
  },
  {
   "cell_type": "markdown",
   "metadata": {},
   "source": [
    "f(1.1) = 0.000001"
   ]
  },
  {
   "cell_type": "markdown",
   "metadata": {},
   "source": [
    "## Part (b)"
   ]
  },
  {
   "cell_type": "code",
   "execution_count": 21,
   "metadata": {},
   "outputs": [
    {
     "name": "stdout",
     "output_type": "stream",
     "text": [
      "Calculation for derivitve of fexpanded: 6.000000001193939e-05\n",
      "Condition Number is: 66.00000035562664\n"
     ]
    }
   ],
   "source": [
    "x2 = 1.1\n",
    "fexpanded_1p1 = fexpanded(x2)\n",
    "dfexpanded_1p1 = 6*(x2)**5-6*5*(x2)**4+15*4*(1.1)**3-20*3*(x2)**2+15*2*(x2)-6\n",
    "print(\"Calculation for derivitve of fexpanded:\", dfexpanded_1p1)\n",
    "\n",
    "conditionNum = abs(((x2)/fexpanded_1p1)*(dfexpanded_1p1))\n",
    "print(\"Condition Number is:\", conditionNum)"
   ]
  },
  {
   "cell_type": "markdown",
   "metadata": {},
   "source": [
    "## Part (c)\n",
    "The **Condition Number** of 66.00000035562664 indicates that the function is sensitive to small changes in the function's input."
   ]
  },
  {
   "cell_type": "markdown",
   "metadata": {},
   "source": [
    "# Question 5:"
   ]
  },
  {
   "cell_type": "code",
   "execution_count": 27,
   "metadata": {},
   "outputs": [
    {
     "name": "stdout",
     "output_type": "stream",
     "text": [
      "sum forward 1.6448340718480652\n"
     ]
    }
   ],
   "source": [
    "sumf=0.0\n",
    "for i in range(1,10001):\n",
    "\tsumf = sumf + 1.0/i**2\n",
    "print(\"sum forward\", sumf)"
   ]
  },
  {
   "cell_type": "code",
   "execution_count": 26,
   "metadata": {},
   "outputs": [
    {
     "name": "stdout",
     "output_type": "stream",
     "text": [
      "Sum reverse: 1.6448340718480596\n"
     ]
    }
   ],
   "source": [
    "sumr=0.0\n",
    "for i in range(10000, 0, -1):\n",
    "\tsumr = sumr + 1.0 / i**2\n",
    "print(\"Sum reverse:\", sumr)"
   ]
  },
  {
   "cell_type": "code",
   "execution_count": 28,
   "metadata": {},
   "outputs": [
    {
     "name": "stdout",
     "output_type": "stream",
     "text": [
      "Forward Error: 5.329070518200751e-15\n",
      "Reverse Error: 2.220446049250313e-16\n"
     ]
    }
   ],
   "source": [
    "exact = 1.6448340718480597698\n",
    "forwardError = abs(sumf - exact)\n",
    "reverseError = abs(sumr - exact)\n",
    "print(\"Forward Error:\", forwardError)\n",
    "print(\"Reverse Error:\", reverseError)"
   ]
  },
  {
   "cell_type": "markdown",
   "metadata": {},
   "source": [
    "The **Forward Sum** has a lower error than the **Reverse Sum**. This is likely due to less rounding errors in the **Forward Sum** because it adds the smaller numbers with more precision before adding the larger numbers. When going in reverse order, the iteratively smaller added sums get rounded off."
   ]
  },
  {
   "cell_type": "markdown",
   "metadata": {},
   "source": [
    "# Question 6:"
   ]
  },
  {
   "cell_type": "code",
   "execution_count": 29,
   "metadata": {},
   "outputs": [
    {
     "name": "stdout",
     "output_type": "stream",
     "text": [
      "first p is 0.08068495147915851\n",
      "second p is 0.9190923575057521\n"
     ]
    }
   ],
   "source": [
    "def g(x):\n",
    "\treturn(4*x*(1-x))\n",
    "p = 1.0/7.0\n",
    "for i in range(1,41):\n",
    "\tp = g(p)\n",
    "print(\"first p is\", p)\n",
    "\n",
    "p2 = 1.0/7.0 + 10**(-12)\n",
    "for i in range(1,41):\n",
    "\tp2 = g(p2)\n",
    "print(\"second p is\", p2)"
   ]
  },
  {
   "cell_type": "markdown",
   "metadata": {},
   "source": [
    "## Part (a)\n",
    "The code is iteratively performing an equation involving multiplication and subtraction on two different, but very close numbers. The two answers should be very close."
   ]
  },
  {
   "cell_type": "markdown",
   "metadata": {},
   "source": [
    "## Part (b)\n",
    "The error is coming from iterative rounding causing the numbers to compound the errors with each iteration. The arithmetic is unstable from the rounding causing chaotic behavior from just a very small change of input sizes."
   ]
  }
 ],
 "metadata": {
  "kernelspec": {
   "display_name": "Python 3",
   "language": "python",
   "name": "python3"
  },
  "language_info": {
   "codemirror_mode": {
    "name": "ipython",
    "version": 3
   },
   "file_extension": ".py",
   "mimetype": "text/x-python",
   "name": "python",
   "nbconvert_exporter": "python",
   "pygments_lexer": "ipython3",
   "version": "3.9.0"
  },
  "orig_nbformat": 4
 },
 "nbformat": 4,
 "nbformat_minor": 2
}
